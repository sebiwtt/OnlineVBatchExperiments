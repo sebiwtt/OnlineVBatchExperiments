{
 "cells": [
  {
   "cell_type": "code",
   "execution_count": 1,
   "id": "fefa23fd-4817-4f76-82c1-62a8e1a4f1a3",
   "metadata": {},
   "outputs": [
    {
     "name": "stderr",
     "output_type": "stream",
     "text": [
      "/var/folders/bt/nlh_3ptx6znf2gx6qszlwdxm0000gn/T/ipykernel_1008/2074063697.py:2: DeprecationWarning: \n",
      "Pyarrow will become a required dependency of pandas in the next major release of pandas (pandas 3.0),\n",
      "(to allow more performant data types, such as the Arrow string type, and better interoperability with other libraries)\n",
      "but was not found to be installed on your system.\n",
      "If this would cause problems for you,\n",
      "please provide us feedback at https://github.com/pandas-dev/pandas/issues/54466\n",
      "        \n",
      "  import pandas as pd\n"
     ]
    }
   ],
   "source": [
    "import math\n",
    "import pandas as pd\n",
    "import numpy as np\n",
    "import statsmodels.api as sm\n",
    "import pmdarima as pm"
   ]
  },
  {
   "cell_type": "code",
   "execution_count": 2,
   "id": "37f7e0df-36e1-41a9-8613-f145a91af30e",
   "metadata": {},
   "outputs": [],
   "source": [
    "df = pd.read_csv(\"../Data/RawTrafficData.csv\", index_col=0)\n",
    "df.index = pd.to_datetime(df.index)\n",
    "train = df.value[:800] # All models are trained on the first 800 instances (online learning is only evaluated after instance nr 800 to have fair comparison)\n",
    "test = df.value[801:]"
   ]
  },
  {
   "cell_type": "code",
   "execution_count": null,
   "id": "9167684f-0522-421f-ac4f-e0b662b22d64",
   "metadata": {},
   "outputs": [],
   "source": [
    "%%timeit -r 1 -n 100\n",
    "\n",
    "p, d, q = 6, 0, 6\n",
    "P, D, Q, s = 2, 1, 2, 24 \n",
    "\n",
    "sarima_model = sm.tsa.SARIMAX(train, order=(p, d, q), seasonal_order=(P, D, Q, s), initialization='approximate_diffuse')\n",
    "results = sarima_model.fit()\n",
    "forecast_steps = len(test)  \n",
    "forecast = results.get_forecast(steps=forecast_steps)\n",
    "forecast_values = forecast.predicted_mean\n",
    "confidence_intervals = forecast.conf_int(alpha=0.05)\n",
    "\n",
    "ground_truth_values = test\n",
    "anomaly_scores = np.zeros(len(ground_truth_values))\n",
    "\n",
    "for i, true_value in enumerate(ground_truth_values):\n",
    "    lower_bound = confidence_intervals.iloc[i, 0] \n",
    "    upper_bound = confidence_intervals.iloc[i, 1]\n",
    "    prediction = (lower_bound + upper_bound) / 2\n",
    "    \n",
    "    threshold = np.abs(prediction-upper_bound) * 6\n",
    "    error = np.abs(true_value - prediction)\n",
    "\n",
    "    if error >= threshold:\n",
    "        anomaly_scores[i] = 1.0\n",
    "    else:\n",
    "        anomaly_scores[i] = error / threshold"
   ]
  },
  {
   "cell_type": "code",
   "execution_count": null,
   "id": "7f60b8fc-40f2-45cb-96b2-d1fe32226189",
   "metadata": {},
   "outputs": [],
   "source": []
  }
 ],
 "metadata": {
  "kernelspec": {
   "display_name": "Python 3 (ipykernel)",
   "language": "python",
   "name": "python3"
  },
  "language_info": {
   "codemirror_mode": {
    "name": "ipython",
    "version": 3
   },
   "file_extension": ".py",
   "mimetype": "text/x-python",
   "name": "python",
   "nbconvert_exporter": "python",
   "pygments_lexer": "ipython3",
   "version": "3.12.1"
  }
 },
 "nbformat": 4,
 "nbformat_minor": 5
}
