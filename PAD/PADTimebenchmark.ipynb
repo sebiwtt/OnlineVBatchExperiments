{
 "cells": [
  {
   "cell_type": "code",
   "execution_count": 1,
   "id": "aaeaf2cc-9a44-468c-9a7f-c856ee453a98",
   "metadata": {},
   "outputs": [],
   "source": [
    "import math\n",
    "from river import anomaly\n",
    "from river import time_series\n",
    "from river import preprocessing\n",
    "from river import linear_model\n",
    "from river import optim\n",
    "import pandas as pd\n",
    "import numpy as np\n",
    "import matplotlib.pyplot as plt\n",
    "import seaborn as sns"
   ]
  },
  {
   "cell_type": "code",
   "execution_count": 2,
   "id": "2fcb033e-209c-469b-83bc-479249250a87",
   "metadata": {},
   "outputs": [],
   "source": [
    "df = pd.read_csv(\"../Data/RawTrafficData.csv\", index_col=0)\n",
    "df.index = pd.to_datetime(df.index)\n",
    "rawdata = df.value"
   ]
  },
  {
   "cell_type": "code",
   "execution_count": 3,
   "id": "fdd8b1a2-40bc-47bf-8a7e-645ad8a08fd4",
   "metadata": {},
   "outputs": [
    {
     "name": "stdout",
     "output_type": "stream",
     "text": [
      "200 ms ± 533 µs per loop (mean ± std. dev. of 2 runs, 500 loops each)\n"
     ]
    }
   ],
   "source": [
    "%%timeit -r 2 -n 100\n",
    "period = 24\n",
    "horizon = 1\n",
    "\n",
    "predictive_model = time_series.SNARIMAX(\n",
    "    p=6,\n",
    "    d=0,\n",
    "    q=6,\n",
    "    m=period,\n",
    "    sd=1,\n",
    "    sq = 2,\n",
    "    sp = 2,\n",
    "    regressor=(\n",
    "        preprocessing.StandardScaler()\n",
    "        | linear_model.LinearRegression(\n",
    "            optimizer=optim.SGD(0.001),\n",
    "            l2 = 0.1,\n",
    "            intercept_lr=.0000000001\n",
    "        )\n",
    "    ),\n",
    ")\n",
    "\n",
    "PAD = anomaly.PredictiveAnomalyDetection(\n",
    "    predictive_model,\n",
    "    horizon=1,\n",
    "    n_std=3.0,\n",
    "    warmup_period=period*1/3\n",
    ")\n",
    "\n",
    "scores = []\n",
    "predictions = []\n",
    "errors = []\n",
    "thresholds = []\n",
    "\n",
    "for y in rawdata:\n",
    "\n",
    "    score, prediction, error, threshold = PAD.score_one_detailed(None, y)\n",
    "\n",
    "    scores.append(score)\n",
    "    thresholds.append(threshold)\n",
    "    errors.append(error)\n",
    "    predictions.append(prediction)\n",
    "\n",
    "    PAD = PAD.learn_one(None, y)"
   ]
  },
  {
   "cell_type": "code",
   "execution_count": null,
   "id": "8b75902b-1943-4aea-9487-b3b6ed4e0eb8",
   "metadata": {},
   "outputs": [],
   "source": []
  }
 ],
 "metadata": {
  "kernelspec": {
   "display_name": "Python 3 (ipykernel)",
   "language": "python",
   "name": "python3"
  },
  "language_info": {
   "codemirror_mode": {
    "name": "ipython",
    "version": 3
   },
   "file_extension": ".py",
   "mimetype": "text/x-python",
   "name": "python",
   "nbconvert_exporter": "python",
   "pygments_lexer": "ipython3",
   "version": "3.12.1"
  }
 },
 "nbformat": 4,
 "nbformat_minor": 5
}
